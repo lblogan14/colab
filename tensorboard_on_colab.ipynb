{
  "nbformat": 4,
  "nbformat_minor": 0,
  "metadata": {
    "colab": {
      "name": "tensorboard_on_colab.ipynb",
      "version": "0.3.2",
      "provenance": [],
      "collapsed_sections": [],
      "include_colab_link": true
    },
    "kernelspec": {
      "name": "python3",
      "display_name": "Python 3"
    },
    "accelerator": "GPU"
  },
  "cells": [
    {
      "cell_type": "markdown",
      "metadata": {
        "id": "view-in-github",
        "colab_type": "text"
      },
      "source": [
        "<a href=\"https://colab.research.google.com/github/lblogan14/colab/blob/master/tensorboard_on_colab.ipynb\" target=\"_parent\"><img src=\"https://colab.research.google.com/assets/colab-badge.svg\" alt=\"Open In Colab\"/></a>"
      ]
    },
    {
      "metadata": {
        "id": "uyu-7uhFhE72",
        "colab_type": "text"
      },
      "cell_type": "markdown",
      "source": [
        "#Use TensorBoard in Colab\n",
        "This is an example of how to set up TensorBoard on Colab.\n",
        "\n",
        "##Install ngrok"
      ]
    },
    {
      "metadata": {
        "id": "xw8vVV_ahfLm",
        "colab_type": "code",
        "colab": {
          "base_uri": "https://localhost:8080/",
          "height": 238
        },
        "outputId": "b6f9551f-50d6-4e7a-ce68-1c7a0d0a3066"
      },
      "cell_type": "code",
      "source": [
        "!wget https://bin.equinox.io/c/4VmDzA7iaHb/ngrok-stable-linux-amd64.zip\n",
        "!unzip ngrok-stable-linux-amd64.zip"
      ],
      "execution_count": 1,
      "outputs": [
        {
          "output_type": "stream",
          "text": [
            "--2018-11-05 20:25:18--  https://bin.equinox.io/c/4VmDzA7iaHb/ngrok-stable-linux-amd64.zip\n",
            "Resolving bin.equinox.io (bin.equinox.io)... 52.0.94.50, 52.201.75.180, 52.55.191.55, ...\n",
            "Connecting to bin.equinox.io (bin.equinox.io)|52.0.94.50|:443... connected.\n",
            "HTTP request sent, awaiting response... 200 OK\n",
            "Length: 5363700 (5.1M) [application/octet-stream]\n",
            "Saving to: ‘ngrok-stable-linux-amd64.zip’\n",
            "\n",
            "ngrok-stable-linux- 100%[===================>]   5.11M  19.6MB/s    in 0.3s    \n",
            "\n",
            "2018-11-05 20:25:19 (19.6 MB/s) - ‘ngrok-stable-linux-amd64.zip’ saved [5363700/5363700]\n",
            "\n",
            "Archive:  ngrok-stable-linux-amd64.zip\n",
            "  inflating: ngrok                   \n"
          ],
          "name": "stdout"
        }
      ]
    },
    {
      "metadata": {
        "id": "83HXXU9ehrq_",
        "colab_type": "text"
      },
      "cell_type": "markdown",
      "source": [
        "##Run Tensorboard\n",
        "assuming the TensorBoard log path is \"./log\""
      ]
    },
    {
      "metadata": {
        "id": "IhDRRJRKh5c2",
        "colab_type": "code",
        "colab": {}
      },
      "cell_type": "code",
      "source": [
        "LOG_DIR = './log'\n",
        "get_ipython().system_raw(\n",
        "      'tensorboard --logdir {} --host 0.0.0.0 --port 6006 &'.format(LOG_DIR))"
      ],
      "execution_count": 0,
      "outputs": []
    },
    {
      "metadata": {
        "id": "kGuSERR8iLrW",
        "colab_type": "text"
      },
      "cell_type": "markdown",
      "source": [
        "##Run ngrok\n",
        "run ngrok to tunnel TensorBoard port 6006 to the outside world"
      ]
    },
    {
      "metadata": {
        "id": "qXkjCLXRiThc",
        "colab_type": "code",
        "colab": {}
      },
      "cell_type": "code",
      "source": [
        "get_ipython().system_raw('./ngrok http 6006 &')"
      ],
      "execution_count": 0,
      "outputs": []
    },
    {
      "metadata": {
        "id": "R11lzfMBicqi",
        "colab_type": "text"
      },
      "cell_type": "markdown",
      "source": [
        "## Get URL\n",
        "access the colab TensorBoard web page\n"
      ]
    },
    {
      "metadata": {
        "id": "vtofFrXQimpr",
        "colab_type": "code",
        "colab": {
          "base_uri": "https://localhost:8080/",
          "height": 34
        },
        "outputId": "6126e3f4-f7cc-4bb0-d8d5-2c65f0a640fa"
      },
      "cell_type": "code",
      "source": [
        "! curl -s http://localhost:4040/api/tunnels | python3 -c \\\n",
        "    \"import sys, json; print(json.load(sys.stdin)['tunnels'][0]['public_url'])\""
      ],
      "execution_count": 4,
      "outputs": [
        {
          "output_type": "stream",
          "text": [
            "http://a9c10463.ngrok.io\n"
          ],
          "name": "stdout"
        }
      ]
    },
    {
      "metadata": {
        "id": "TyGquEGLi09U",
        "colab_type": "text"
      },
      "cell_type": "markdown",
      "source": [
        "#Set up a simple Keras network "
      ]
    },
    {
      "metadata": {
        "id": "kSilhP6pi8nl",
        "colab_type": "code",
        "colab": {
          "base_uri": "https://localhost:8080/",
          "height": 544
        },
        "outputId": "842db70a-f816-4047-abdf-807ecb4b64ee"
      },
      "cell_type": "code",
      "source": [
        "'''Trains a simple convnet on the MNIST dataset.\n",
        "\n",
        "Gets to 99.25% test accuracy after 12 epochs\n",
        "(there is still a lot of margin for parameter tuning).\n",
        "16 seconds per epoch on a GRID K520 GPU.\n",
        "'''\n",
        "\n",
        "from __future__ import print_function\n",
        "import keras\n",
        "from keras.datasets import mnist\n",
        "from keras.models import Sequential\n",
        "from keras.layers import Dense, Dropout, Flatten\n",
        "from keras.layers import Conv2D, MaxPooling2D\n",
        "from keras import backend as K\n",
        "from keras.callbacks import TensorBoard\n",
        "\n",
        "batch_size = 128\n",
        "num_classes = 10\n",
        "epochs = 12\n",
        "\n",
        "# input image dimensions\n",
        "img_rows, img_cols = 28, 28\n",
        "\n",
        "# the data, shuffled and split between train and test sets\n",
        "(x_train, y_train), (x_test, y_test) = mnist.load_data()\n",
        "\n",
        "if K.image_data_format() == 'channels_first':\n",
        "    x_train = x_train.reshape(x_train.shape[0], 1, img_rows, img_cols)\n",
        "    x_test = x_test.reshape(x_test.shape[0], 1, img_rows, img_cols)\n",
        "    input_shape = (1, img_rows, img_cols)\n",
        "else:\n",
        "    x_train = x_train.reshape(x_train.shape[0], img_rows, img_cols, 1)\n",
        "    x_test = x_test.reshape(x_test.shape[0], img_rows, img_cols, 1)\n",
        "    input_shape = (img_rows, img_cols, 1)\n",
        "\n",
        "x_train = x_train.astype('float32')\n",
        "x_test = x_test.astype('float32')\n",
        "x_train /= 255\n",
        "x_test /= 255\n",
        "print('x_train shape:', x_train.shape)\n",
        "print(x_train.shape[0], 'train samples')\n",
        "print(x_test.shape[0], 'test samples')\n",
        "\n",
        "# convert class vectors to binary class matrices\n",
        "y_train = keras.utils.to_categorical(y_train, num_classes)\n",
        "y_test = keras.utils.to_categorical(y_test, num_classes)\n",
        "\n",
        "model = Sequential()\n",
        "model.add(Conv2D(32, kernel_size=(3, 3),\n",
        "                 activation='relu',\n",
        "                 input_shape=input_shape))\n",
        "model.add(Conv2D(64, (3, 3), activation='relu'))\n",
        "model.add(MaxPooling2D(pool_size=(2, 2)))\n",
        "model.add(Dropout(0.25))\n",
        "model.add(Flatten())\n",
        "model.add(Dense(128, activation='relu'))\n",
        "model.add(Dropout(0.5))\n",
        "model.add(Dense(num_classes, activation='softmax'))\n",
        "\n",
        "model.compile(loss=keras.losses.categorical_crossentropy,\n",
        "              optimizer=keras.optimizers.Adadelta(),\n",
        "              metrics=['accuracy'])\n",
        "\n",
        "\n",
        "tbCallBack = TensorBoard(log_dir='./log', histogram_freq=1,\n",
        "                         write_graph=True,\n",
        "                         write_grads=True,\n",
        "                         batch_size=batch_size,\n",
        "                         write_images=True)\n",
        "\n",
        "model.fit(x_train, y_train,\n",
        "          batch_size=batch_size,\n",
        "          epochs=epochs,\n",
        "          verbose=1,\n",
        "          validation_data=(x_test, y_test),\n",
        "          callbacks=[tbCallBack])\n",
        "score = model.evaluate(x_test, y_test, verbose=0)\n",
        "print('Test loss:', score[0])\n",
        "print('Test accuracy:', score[1])\n"
      ],
      "execution_count": 0,
      "outputs": [
        {
          "output_type": "stream",
          "text": [
            "Using TensorFlow backend.\n"
          ],
          "name": "stderr"
        },
        {
          "output_type": "stream",
          "text": [
            "Downloading data from https://s3.amazonaws.com/img-datasets/mnist.npz\n",
            "11493376/11490434 [==============================] - 0s 0us/step\n",
            "x_train shape: (60000, 28, 28, 1)\n",
            "60000 train samples\n",
            "10000 test samples\n",
            "Train on 60000 samples, validate on 10000 samples\n",
            "Epoch 1/12\n",
            "60000/60000 [==============================] - 13s 220us/step - loss: 0.2625 - acc: 0.9198 - val_loss: 0.0523 - val_acc: 0.9840\n",
            "Epoch 2/12\n",
            "60000/60000 [==============================] - 10s 169us/step - loss: 0.0906 - acc: 0.9736 - val_loss: 0.0387 - val_acc: 0.9863\n",
            "Epoch 3/12\n",
            "60000/60000 [==============================] - 10s 168us/step - loss: 0.0661 - acc: 0.9802 - val_loss: 0.0353 - val_acc: 0.9877\n",
            "Epoch 4/12\n",
            "60000/60000 [==============================] - 10s 164us/step - loss: 0.0559 - acc: 0.9826 - val_loss: 0.0303 - val_acc: 0.9892\n",
            "Epoch 5/12\n",
            "60000/60000 [==============================] - 10s 164us/step - loss: 0.0476 - acc: 0.9857 - val_loss: 0.0271 - val_acc: 0.9908\n",
            "Epoch 6/12\n",
            "60000/60000 [==============================] - 10s 171us/step - loss: 0.0420 - acc: 0.9872 - val_loss: 0.0328 - val_acc: 0.9893\n",
            "Epoch 7/12\n",
            "60000/60000 [==============================] - 10s 172us/step - loss: 0.0382 - acc: 0.9881 - val_loss: 0.0291 - val_acc: 0.9902\n",
            "Epoch 8/12\n",
            "60000/60000 [==============================] - 10s 170us/step - loss: 0.0352 - acc: 0.9896 - val_loss: 0.0255 - val_acc: 0.9918\n",
            "Epoch 9/12\n",
            "60000/60000 [==============================] - 11s 176us/step - loss: 0.0326 - acc: 0.9904 - val_loss: 0.0259 - val_acc: 0.9911\n",
            "Epoch 10/12\n",
            "60000/60000 [==============================] - 10s 170us/step - loss: 0.0292 - acc: 0.9909 - val_loss: 0.0291 - val_acc: 0.9907\n",
            "Epoch 11/12\n",
            "60000/60000 [==============================] - 10s 168us/step - loss: 0.0287 - acc: 0.9910 - val_loss: 0.0273 - val_acc: 0.9908\n",
            "Epoch 12/12\n",
            "60000/60000 [==============================] - 10s 166us/step - loss: 0.0256 - acc: 0.9919 - val_loss: 0.0299 - val_acc: 0.9906\n"
          ],
          "name": "stdout"
        }
      ]
    },
    {
      "metadata": {
        "id": "Lo8YnM66kq_J",
        "colab_type": "text"
      },
      "cell_type": "markdown",
      "source": [
        "While this model is training, you can open the previous ngrok link, it should show the TensorBoard page."
      ]
    },
    {
      "metadata": {
        "id": "6br6yH7DjG8T",
        "colab_type": "text"
      },
      "cell_type": "markdown",
      "source": [
        "##Optionally check tensorboard and ngrok PIDs and stop them"
      ]
    },
    {
      "metadata": {
        "id": "0ts0lge4jMW8",
        "colab_type": "code",
        "colab": {}
      },
      "cell_type": "code",
      "source": [
        "ps aux | grep tensorboard"
      ],
      "execution_count": 0,
      "outputs": []
    },
    {
      "metadata": {
        "id": "-lNFI0-djU0z",
        "colab_type": "code",
        "colab": {}
      },
      "cell_type": "code",
      "source": [
        "!ps aux | grep ngrok"
      ],
      "execution_count": 0,
      "outputs": []
    },
    {
      "metadata": {
        "id": "Ge_uv_xNjWpH",
        "colab_type": "code",
        "colab": {}
      },
      "cell_type": "code",
      "source": [
        "!kill 155"
      ],
      "execution_count": 0,
      "outputs": []
    },
    {
      "metadata": {
        "id": "gL72dqn7jZZu",
        "colab_type": "text"
      },
      "cell_type": "markdown",
      "source": [
        "##Optionally clear the tensorboard records directory"
      ]
    },
    {
      "metadata": {
        "id": "fU6yEsqojcVz",
        "colab_type": "code",
        "colab": {}
      },
      "cell_type": "code",
      "source": [
        "!rm -rf log"
      ],
      "execution_count": 0,
      "outputs": []
    }
  ]
}